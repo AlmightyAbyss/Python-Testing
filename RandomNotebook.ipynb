{
  "nbformat": 4,
  "nbformat_minor": 0,
  "metadata": {
    "colab": {
      "name": "RandomNotebook.ipynb",
      "provenance": [],
      "collapsed_sections": [],
      "toc_visible": true,
      "authorship_tag": "ABX9TyMnux8hWeNWPnto8mcHE+Nu",
      "include_colab_link": true
    },
    "kernelspec": {
      "name": "python3",
      "display_name": "Python 3"
    },
    "language_info": {
      "name": "python"
    }
  },
  "cells": [
    {
      "cell_type": "markdown",
      "metadata": {
        "id": "view-in-github",
        "colab_type": "text"
      },
      "source": [
        "<a href=\"https://colab.research.google.com/github/AlmightyAbyss/Test/blob/main/RandomNotebook.ipynb\" target=\"_parent\"><img src=\"https://colab.research.google.com/assets/colab-badge.svg\" alt=\"Open In Colab\"/></a>"
      ]
    },
    {
      "cell_type": "markdown",
      "source": [
        "# My first notebook"
      ],
      "metadata": {
        "id": "jh7DEYGOaNhG"
      }
    },
    {
      "cell_type": "code",
      "execution_count": null,
      "metadata": {
        "colab": {
          "base_uri": "https://localhost:8080/"
        },
        "id": "zcees1FVX1BL",
        "outputId": "13bd4697-a506-4e24-dbf1-61748ad5e856"
      },
      "outputs": [
        {
          "output_type": "stream",
          "name": "stdout",
          "text": [
            "dont look\n"
          ]
        }
      ],
      "source": [
        "print(\"dont look\")"
      ]
    },
    {
      "cell_type": "markdown",
      "source": [
        "#Testing Math Equation"
      ],
      "metadata": {
        "id": "cXZJK9Yqab_H"
      }
    },
    {
      "cell_type": "markdown",
      "source": [
        "Using LaTex syntax:\n",
        "$ E =mc^2 $"
      ],
      "metadata": {
        "id": "raKFEg_2anU_"
      }
    },
    {
      "cell_type": "markdown",
      "source": [
        "$$ E = mc^2 $$"
      ],
      "metadata": {
        "id": "IgrIUJOoa04-"
      }
    },
    {
      "cell_type": "markdown",
      "source": [
        "## Testing Python Code"
      ],
      "metadata": {
        "id": "27G2JomsbYrk"
      }
    },
    {
      "cell_type": "code",
      "source": [
        "'*'*10"
      ],
      "metadata": {
        "colab": {
          "base_uri": "https://localhost:8080/",
          "height": 35
        },
        "id": "xK3Vg25jbfxv",
        "outputId": "4df4af91-c540-4262-ce73-50526d258308"
      },
      "execution_count": null,
      "outputs": [
        {
          "output_type": "execute_result",
          "data": {
            "text/plain": [
              "'**********'"
            ],
            "application/vnd.google.colaboratory.intrinsic+json": {
              "type": "string"
            }
          },
          "metadata": {},
          "execution_count": 2
        }
      ]
    },
    {
      "cell_type": "code",
      "source": [
        "for n in range(5):\n",
        "  print(' '*(10-n)+(n+(n+1))*'*')"
      ],
      "metadata": {
        "colab": {
          "base_uri": "https://localhost:8080/"
        },
        "id": "8yWWeAqIb-Kp",
        "outputId": "c6463a55-4e2f-46f1-faf7-48976265e117"
      },
      "execution_count": 1,
      "outputs": [
        {
          "output_type": "stream",
          "name": "stdout",
          "text": [
            "          *\n",
            "         ***\n",
            "        *****\n",
            "       *******\n",
            "      *********\n"
          ]
        }
      ]
    },
    {
      "cell_type": "markdown",
      "source": [
        "#Testing Functions"
      ],
      "metadata": {
        "id": "0TlNXnW115-u"
      }
    },
    {
      "cell_type": "code",
      "source": [
        "def foo():\n",
        "  print('Working!!')"
      ],
      "metadata": {
        "id": "3Orhs9Fl1_FQ"
      },
      "execution_count": 6,
      "outputs": []
    },
    {
      "cell_type": "code",
      "source": [
        "foo()"
      ],
      "metadata": {
        "colab": {
          "base_uri": "https://localhost:8080/"
        },
        "id": "ndjrQ0Co2JdP",
        "outputId": "a02dbcc5-0d94-4bc3-f5bd-d15d3715abad"
      },
      "execution_count": 8,
      "outputs": [
        {
          "output_type": "stream",
          "name": "stdout",
          "text": [
            "Working!!\n"
          ]
        }
      ]
    },
    {
      "cell_type": "code",
      "source": [
        "def bar(name):\n",
        "  print('hello,', name)\n",
        "# the reason of the comma before the word name in the second line is to seperate it."
      ],
      "metadata": {
        "id": "I2lt1Z-r2sfG"
      },
      "execution_count": 17,
      "outputs": []
    },
    {
      "cell_type": "code",
      "source": [
        "bar('daniel')"
      ],
      "metadata": {
        "colab": {
          "base_uri": "https://localhost:8080/"
        },
        "id": "GprSwotu24gO",
        "outputId": "ffa83a44-ff40-4d9c-cce1-b55ab42d5626"
      },
      "execution_count": 16,
      "outputs": [
        {
          "output_type": "stream",
          "name": "stdout",
          "text": [
            "hello, daniel\n"
          ]
        }
      ]
    },
    {
      "cell_type": "code",
      "source": [
        "def square1(x):\n",
        "  return x**2\n",
        "def square2(x):\n",
        "  print (x**2)\n",
        "  # the two asteriks in the second line means exponent\n",
        "  # return sends back an signal, while print only shows the signal"
      ],
      "metadata": {
        "id": "V1poT62l37eU"
      },
      "execution_count": 20,
      "outputs": []
    },
    {
      "cell_type": "code",
      "source": [
        "square1(2)\n",
        "# it looks the same as square1, but only square2 sends back a signal"
      ],
      "metadata": {
        "colab": {
          "base_uri": "https://localhost:8080/"
        },
        "id": "Yk9fhqLI4yZc",
        "outputId": "fb842e55-e4e7-4bb6-92ae-04eb887afc14"
      },
      "execution_count": 27,
      "outputs": [
        {
          "output_type": "execute_result",
          "data": {
            "text/plain": [
              "4"
            ]
          },
          "metadata": {},
          "execution_count": 27
        }
      ]
    },
    {
      "cell_type": "code",
      "source": [
        "square2(2)\n",
        "# it looks the same as square2, but only square1 sends back a signal"
      ],
      "metadata": {
        "colab": {
          "base_uri": "https://localhost:8080/"
        },
        "id": "xp1f0cEi5qsY",
        "outputId": "a65ee5a3-2494-4be0-8cef-2b80ca04c06f"
      },
      "execution_count": 28,
      "outputs": [
        {
          "output_type": "stream",
          "name": "stdout",
          "text": [
            "4\n"
          ]
        }
      ]
    },
    {
      "cell_type": "code",
      "source": [
        "y1 = square1(2)\n",
        "y2 = square2(2)\n",
        "# only the square1 will show the results, as it is sending something, while square2 only showing the results."
      ],
      "metadata": {
        "colab": {
          "base_uri": "https://localhost:8080/"
        },
        "id": "-c9_9IcC5LQx",
        "outputId": "b585078a-d6c3-4fcc-cef9-9d9c8070c6f9"
      },
      "execution_count": 21,
      "outputs": [
        {
          "output_type": "stream",
          "name": "stdout",
          "text": [
            "4\n"
          ]
        }
      ]
    },
    {
      "cell_type": "markdown",
      "source": [
        "##Revamping The Pyramid"
      ],
      "metadata": {
        "id": "sDYjzecG52Jn"
      }
    },
    {
      "cell_type": "code",
      "source": [
        "def pyramid(x):\n",
        "  for x in range(x):\n",
        "    print(' '*(10-x)+(x+(x+1))*'*')\n",
        "#the code is from the first entry: Testing Python Code\n",
        "#the variable is changed from 'n' to 'x' so that the code will not get confused by the variable 'n' in the last few codes\n"
      ],
      "metadata": {
        "id": "vNOYSSnw58wu"
      },
      "execution_count": 57,
      "outputs": []
    },
    {
      "cell_type": "code",
      "source": [
        "pyramid(10)"
      ],
      "metadata": {
        "colab": {
          "base_uri": "https://localhost:8080/"
        },
        "id": "CVWUsck06TG7",
        "outputId": "66bd848c-2707-4f40-e6c4-96fa25fbad3d"
      },
      "execution_count": 56,
      "outputs": [
        {
          "output_type": "stream",
          "name": "stdout",
          "text": [
            "          *\n",
            "         ***\n",
            "        *****\n",
            "       *******\n",
            "      *********\n",
            "     ***********\n",
            "    *************\n",
            "   ***************\n",
            "  *****************\n",
            " *******************\n"
          ]
        }
      ]
    }
  ]
}