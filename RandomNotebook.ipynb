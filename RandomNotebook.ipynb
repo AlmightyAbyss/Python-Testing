{
  "nbformat": 4,
  "nbformat_minor": 0,
  "metadata": {
    "colab": {
      "name": "RandomNotebook.ipynb",
      "provenance": [],
      "collapsed_sections": [],
      "toc_visible": true,
      "authorship_tag": "ABX9TyMKHXgUv5Agi7x/ik9Ld9We",
      "include_colab_link": true
    },
    "kernelspec": {
      "name": "python3",
      "display_name": "Python 3"
    },
    "language_info": {
      "name": "python"
    }
  },
  "cells": [
    {
      "cell_type": "markdown",
      "metadata": {
        "id": "view-in-github",
        "colab_type": "text"
      },
      "source": [
        "<a href=\"https://colab.research.google.com/github/AlmightyAbyss/Test/blob/main/RandomNotebook.ipynb\" target=\"_parent\"><img src=\"https://colab.research.google.com/assets/colab-badge.svg\" alt=\"Open In Colab\"/></a>"
      ]
    },
    {
      "cell_type": "markdown",
      "source": [
        "# My first notebook"
      ],
      "metadata": {
        "id": "jh7DEYGOaNhG"
      }
    },
    {
      "cell_type": "code",
      "execution_count": 1,
      "metadata": {
        "colab": {
          "base_uri": "https://localhost:8080/"
        },
        "id": "zcees1FVX1BL",
        "outputId": "13bd4697-a506-4e24-dbf1-61748ad5e856"
      },
      "outputs": [
        {
          "output_type": "stream",
          "name": "stdout",
          "text": [
            "dont look\n"
          ]
        }
      ],
      "source": [
        "print(\"dont look\")"
      ]
    },
    {
      "cell_type": "markdown",
      "source": [
        "#Testing Math Equation"
      ],
      "metadata": {
        "id": "cXZJK9Yqab_H"
      }
    },
    {
      "cell_type": "markdown",
      "source": [
        "Using LaTex syntax:\n",
        "$ E =mc^2 $"
      ],
      "metadata": {
        "id": "raKFEg_2anU_"
      }
    },
    {
      "cell_type": "markdown",
      "source": [
        "$$ E = mc^2 $$"
      ],
      "metadata": {
        "id": "IgrIUJOoa04-"
      }
    },
    {
      "cell_type": "markdown",
      "source": [
        "## Testing Python Code"
      ],
      "metadata": {
        "id": "27G2JomsbYrk"
      }
    },
    {
      "cell_type": "code",
      "source": [
        "'*'*10"
      ],
      "metadata": {
        "colab": {
          "base_uri": "https://localhost:8080/",
          "height": 35
        },
        "id": "xK3Vg25jbfxv",
        "outputId": "4df4af91-c540-4262-ce73-50526d258308"
      },
      "execution_count": 2,
      "outputs": [
        {
          "output_type": "execute_result",
          "data": {
            "text/plain": [
              "'**********'"
            ],
            "application/vnd.google.colaboratory.intrinsic+json": {
              "type": "string"
            }
          },
          "metadata": {},
          "execution_count": 2
        }
      ]
    },
    {
      "cell_type": "code",
      "source": [
        "for n in range(5):\n",
        "  print(' '*(10-n)+(n+(n+1))*'*')"
      ],
      "metadata": {
        "colab": {
          "base_uri": "https://localhost:8080/"
        },
        "id": "8yWWeAqIb-Kp",
        "outputId": "287e7c5b-104f-44d7-c296-dc0942bee1f7"
      },
      "execution_count": 79,
      "outputs": [
        {
          "output_type": "stream",
          "name": "stdout",
          "text": [
            "          *\n",
            "         ***\n",
            "        *****\n",
            "       *******\n",
            "      *********\n"
          ]
        }
      ]
    }
  ]
}