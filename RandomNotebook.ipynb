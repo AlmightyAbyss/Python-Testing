{
  "nbformat": 4,
  "nbformat_minor": 0,
  "metadata": {
    "colab": {
      "name": "RandomNotebook.ipynb",
      "provenance": [],
      "collapsed_sections": [],
      "authorship_tag": "ABX9TyN+xQXXzUl3HWqakGpYl/ax",
      "include_colab_link": true
    },
    "kernelspec": {
      "name": "python3",
      "display_name": "Python 3"
    },
    "language_info": {
      "name": "python"
    }
  },
  "cells": [
    {
      "cell_type": "markdown",
      "metadata": {
        "id": "view-in-github",
        "colab_type": "text"
      },
      "source": [
        "<a href=\"https://colab.research.google.com/github/AlmightyAbyss/Python-Testing/blob/main/RandomNotebook.ipynb\" target=\"_parent\"><img src=\"https://colab.research.google.com/assets/colab-badge.svg\" alt=\"Open In Colab\"/></a>"
      ]
    },
    {
      "cell_type": "markdown",
      "source": [
        "# My first notebook"
      ],
      "metadata": {
        "id": "jh7DEYGOaNhG"
      }
    },
    {
      "cell_type": "code",
      "execution_count": null,
      "metadata": {
        "colab": {
          "base_uri": "https://localhost:8080/"
        },
        "id": "zcees1FVX1BL",
        "outputId": "13bd4697-a506-4e24-dbf1-61748ad5e856"
      },
      "outputs": [
        {
          "output_type": "stream",
          "name": "stdout",
          "text": [
            "dont look\n"
          ]
        }
      ],
      "source": [
        "print(\"dont look\")"
      ]
    },
    {
      "cell_type": "markdown",
      "source": [
        "#Testing Math Equation 3/20/2022"
      ],
      "metadata": {
        "id": "cXZJK9Yqab_H"
      }
    },
    {
      "cell_type": "markdown",
      "source": [
        "Using LaTex syntax:\n",
        "$ E =mc^2 $"
      ],
      "metadata": {
        "id": "raKFEg_2anU_"
      }
    },
    {
      "cell_type": "markdown",
      "source": [
        "$$ E = mc^2 $$"
      ],
      "metadata": {
        "id": "IgrIUJOoa04-"
      }
    },
    {
      "cell_type": "markdown",
      "source": [
        "## Testing Python Code"
      ],
      "metadata": {
        "id": "27G2JomsbYrk"
      }
    },
    {
      "cell_type": "code",
      "source": [
        "'*'*10"
      ],
      "metadata": {
        "colab": {
          "base_uri": "https://localhost:8080/",
          "height": 35
        },
        "id": "xK3Vg25jbfxv",
        "outputId": "4df4af91-c540-4262-ce73-50526d258308"
      },
      "execution_count": null,
      "outputs": [
        {
          "output_type": "execute_result",
          "data": {
            "text/plain": [
              "'**********'"
            ],
            "application/vnd.google.colaboratory.intrinsic+json": {
              "type": "string"
            }
          },
          "metadata": {},
          "execution_count": 2
        }
      ]
    },
    {
      "cell_type": "code",
      "source": [
        "for n in range(5):\n",
        "  print(' '*(10-n)+(n+(n+1))*'*')"
      ],
      "metadata": {
        "colab": {
          "base_uri": "https://localhost:8080/"
        },
        "id": "8yWWeAqIb-Kp",
        "outputId": "c6463a55-4e2f-46f1-faf7-48976265e117"
      },
      "execution_count": null,
      "outputs": [
        {
          "output_type": "stream",
          "name": "stdout",
          "text": [
            "          *\n",
            "         ***\n",
            "        *****\n",
            "       *******\n",
            "      *********\n"
          ]
        }
      ]
    },
    {
      "cell_type": "markdown",
      "source": [
        "#Testing Functions 3/21/2022"
      ],
      "metadata": {
        "id": "0TlNXnW115-u"
      }
    },
    {
      "cell_type": "code",
      "source": [
        "def foo():\n",
        "  print('Working!!')"
      ],
      "metadata": {
        "id": "3Orhs9Fl1_FQ"
      },
      "execution_count": null,
      "outputs": []
    },
    {
      "cell_type": "code",
      "source": [
        "foo()"
      ],
      "metadata": {
        "colab": {
          "base_uri": "https://localhost:8080/"
        },
        "id": "ndjrQ0Co2JdP",
        "outputId": "a02dbcc5-0d94-4bc3-f5bd-d15d3715abad"
      },
      "execution_count": null,
      "outputs": [
        {
          "output_type": "stream",
          "name": "stdout",
          "text": [
            "Working!!\n"
          ]
        }
      ]
    },
    {
      "cell_type": "code",
      "source": [
        "def bar(name):\n",
        "  print('hello,', name)\n",
        "# the reason of the comma before the word name in the second line is to seperate it."
      ],
      "metadata": {
        "id": "I2lt1Z-r2sfG"
      },
      "execution_count": null,
      "outputs": []
    },
    {
      "cell_type": "code",
      "source": [
        "bar('daniel')"
      ],
      "metadata": {
        "colab": {
          "base_uri": "https://localhost:8080/"
        },
        "id": "GprSwotu24gO",
        "outputId": "ffa83a44-ff40-4d9c-cce1-b55ab42d5626"
      },
      "execution_count": null,
      "outputs": [
        {
          "output_type": "stream",
          "name": "stdout",
          "text": [
            "hello, daniel\n"
          ]
        }
      ]
    },
    {
      "cell_type": "code",
      "source": [
        "def square1(x):\n",
        "  return x**2\n",
        "def square2(x):\n",
        "  print (x**2)\n",
        "  # the two asteriks in the second line means exponent\n",
        "  # return sends back an signal, while print only shows the signal"
      ],
      "metadata": {
        "id": "V1poT62l37eU"
      },
      "execution_count": null,
      "outputs": []
    },
    {
      "cell_type": "code",
      "source": [
        "square1(2)\n",
        "# it looks the same as square1, but only square2 sends back a signal"
      ],
      "metadata": {
        "colab": {
          "base_uri": "https://localhost:8080/"
        },
        "id": "Yk9fhqLI4yZc",
        "outputId": "fb842e55-e4e7-4bb6-92ae-04eb887afc14"
      },
      "execution_count": null,
      "outputs": [
        {
          "output_type": "execute_result",
          "data": {
            "text/plain": [
              "4"
            ]
          },
          "metadata": {},
          "execution_count": 27
        }
      ]
    },
    {
      "cell_type": "code",
      "source": [
        "square2(2)\n",
        "# it looks the same as square2, but only square1 sends back a signal"
      ],
      "metadata": {
        "colab": {
          "base_uri": "https://localhost:8080/"
        },
        "id": "xp1f0cEi5qsY",
        "outputId": "a65ee5a3-2494-4be0-8cef-2b80ca04c06f"
      },
      "execution_count": null,
      "outputs": [
        {
          "output_type": "stream",
          "name": "stdout",
          "text": [
            "4\n"
          ]
        }
      ]
    },
    {
      "cell_type": "code",
      "source": [
        "y1 = square1(2)\n",
        "y2 = square2(2)\n",
        "# only the square1 will show the results, as it is sending something, while square2 only showing the results."
      ],
      "metadata": {
        "colab": {
          "base_uri": "https://localhost:8080/"
        },
        "id": "-c9_9IcC5LQx",
        "outputId": "b585078a-d6c3-4fcc-cef9-9d9c8070c6f9"
      },
      "execution_count": null,
      "outputs": [
        {
          "output_type": "stream",
          "name": "stdout",
          "text": [
            "4\n"
          ]
        }
      ]
    },
    {
      "cell_type": "markdown",
      "source": [
        "##Revamping The Pyramid"
      ],
      "metadata": {
        "id": "sDYjzecG52Jn"
      }
    },
    {
      "cell_type": "code",
      "source": [
        "def pyramid(x):\n",
        "  for x in range(x):\n",
        "    print(' '*(10-x)+(x+(x+1))*'*')\n",
        "#the code is from the first entry: Testing Python Code\n",
        "#the variable is changed from 'n' to 'x' so that the code will not get confused by the variable 'n' in the last few codes\n"
      ],
      "metadata": {
        "id": "vNOYSSnw58wu"
      },
      "execution_count": null,
      "outputs": []
    },
    {
      "cell_type": "code",
      "source": [
        "pyramid(10)"
      ],
      "metadata": {
        "colab": {
          "base_uri": "https://localhost:8080/"
        },
        "id": "CVWUsck06TG7",
        "outputId": "66bd848c-2707-4f40-e6c4-96fa25fbad3d"
      },
      "execution_count": null,
      "outputs": [
        {
          "output_type": "stream",
          "name": "stdout",
          "text": [
            "          *\n",
            "         ***\n",
            "        *****\n",
            "       *******\n",
            "      *********\n",
            "     ***********\n",
            "    *************\n",
            "   ***************\n",
            "  *****************\n",
            " *******************\n"
          ]
        }
      ]
    },
    {
      "cell_type": "markdown",
      "source": [
        "##Creating A Diamond"
      ],
      "metadata": {
        "id": "FJAo1jxH8uBp"
      }
    },
    {
      "cell_type": "code",
      "source": [
        "def Diamond(y):\n",
        "  for y in range(y):\n",
        "    print(' '*(10-y)+(y+(y+1))*'*')\n",
        "#the code is from the second entry: Revamping The Pyramid\n",
        "#the variable is changed from 'x' to 'y' so that the code will not get confused by the variable 'n' in the last few codes\n"
      ],
      "metadata": {
        "id": "zz0jHT6-85AY"
      },
      "execution_count": null,
      "outputs": []
    },
    {
      "cell_type": "code",
      "source": [
        "for n in range(5):\n",
        "  print(' '*n+(2*(4-n)+1)*'*')\n",
        "  #unfinished"
      ],
      "metadata": {
        "colab": {
          "base_uri": "https://localhost:8080/"
        },
        "id": "IzxQLzc5_K8F",
        "outputId": "92756466-3f4e-4413-9909-4c76b09405f0"
      },
      "execution_count": null,
      "outputs": [
        {
          "output_type": "stream",
          "name": "stdout",
          "text": [
            "*********\n",
            " *******\n",
            "  *****\n",
            "   ***\n",
            "    *\n"
          ]
        }
      ]
    },
    {
      "cell_type": "markdown",
      "source": [
        "#Testing Terminal Commands 3/22/2022"
      ],
      "metadata": {
        "id": "PQjNvBgex1lu"
      }
    },
    {
      "cell_type": "code",
      "source": [
        "!ls\n",
        "#shows files"
      ],
      "metadata": {
        "colab": {
          "base_uri": "https://localhost:8080/"
        },
        "id": "PcQ-G567x5e2",
        "outputId": "cd35fd42-2ff1-4988-dc7e-044b50b65320"
      },
      "execution_count": null,
      "outputs": [
        {
          "output_type": "stream",
          "name": "stdout",
          "text": [
            "sample_data\n"
          ]
        }
      ]
    },
    {
      "cell_type": "markdown",
      "source": [
        "##Grabbing Picture"
      ],
      "metadata": {
        "id": "CqA6pVRB0r1o"
      }
    },
    {
      "cell_type": "code",
      "source": [
        "!curl https://styles.redditmedia.com/t5_jyc32/styles/communityIcon_zgvvnt9pe4431.png -O dog.png\n",
        "#IMPOTANT\n",
        "#Must add -O and [name].[filetype], such as bat.png, search.jpg"
      ],
      "metadata": {
        "colab": {
          "base_uri": "https://localhost:8080/"
        },
        "id": "Tf04RBQ0yMox",
        "outputId": "ea4760f6-0126-4382-da9c-f7febfc04f75"
      },
      "execution_count": null,
      "outputs": [
        {
          "output_type": "stream",
          "name": "stdout",
          "text": [
            "  % Total    % Received % Xferd  Average Speed   Time    Time     Time  Current\n",
            "                                 Dload  Upload   Total   Spent    Left  Speed\n",
            "\r  0     0    0     0    0     0      0      0 --:--:-- --:--:-- --:--:--     0\r100 21051  100 21051    0     0   175k      0 --:--:-- --:--:-- --:--:--  175k\n",
            "curl: (6) Could not resolve host: dog.png\n"
          ]
        }
      ]
    },
    {
      "cell_type": "markdown",
      "source": [
        "##Testing PIL"
      ],
      "metadata": {
        "id": "I2dEZ2xg0uzI"
      }
    },
    {
      "cell_type": "code",
      "source": [
        "from PIL import Image\n",
        "#importing the fuction \"Image\" from the module \"PIL\""
      ],
      "metadata": {
        "id": "hjgorJSa0x3O"
      },
      "execution_count": null,
      "outputs": []
    },
    {
      "cell_type": "code",
      "source": [
        "im = Image.open('communityIcon_zgvvnt9pe4431.png')"
      ],
      "metadata": {
        "id": "XYtL7Eun09U5"
      },
      "execution_count": null,
      "outputs": []
    },
    {
      "cell_type": "code",
      "source": [
        "im\n",
        "#running the function"
      ],
      "metadata": {
        "colab": {
          "base_uri": "https://localhost:8080/",
          "height": 273
        },
        "id": "7PV11Dyv1UFu",
        "outputId": "db2fea5e-f68a-4783-e9cb-8b101340b7ad"
      },
      "execution_count": null,
      "outputs": [
        {
          "output_type": "execute_result",
          "data": {
            "text/plain": [
              "<PIL.PngImagePlugin.PngImageFile image mode=RGBA size=256x256 at 0x7F41465AF9D0>"
            ],
            "image/png": "[encoded data removed]"
          },
          "metadata": {},
          "execution_count": 19
        }
      ]
    },
    {
      "cell_type": "code",
      "source": [
        "im.mode"
      ],
      "metadata": {
        "colab": {
          "base_uri": "https://localhost:8080/",
          "height": 35
        },
        "id": "Mrk98ZDy3atg",
        "outputId": "489ad371-8a19-43f4-d679-1c6c17cf19b6"
      },
      "execution_count": null,
      "outputs": [
        {
          "output_type": "execute_result",
          "data": {
            "text/plain": [
              "'RGBA'"
            ],
            "application/vnd.google.colaboratory.intrinsic+json": {
              "type": "string"
            }
          },
          "metadata": {},
          "execution_count": 24
        }
      ]
    },
    {
      "cell_type": "code",
      "source": [
        "im = im.convert('RGB')\n",
        "#converts from rgba to rgb"
      ],
      "metadata": {
        "id": "XCUshLQA40RJ"
      },
      "execution_count": null,
      "outputs": []
    },
    {
      "cell_type": "code",
      "source": [
        "r, g, b = im.split()\n",
        "im = Image.merge(\"RGB\", (b, g, r))\n",
        "im\n",
        "#inverts color"
      ],
      "metadata": {
        "colab": {
          "base_uri": "https://localhost:8080/",
          "height": 273
        },
        "id": "JA6TxI8x3P1Y",
        "outputId": "d4ff4a7e-1956-4d51-bc83-31fc1fb2571a"
      },
      "execution_count": null,
      "outputs": [
        {
          "output_type": "execute_result",
          "data": {
            "text/plain": [
              "<PIL.Image.Image image mode=RGB size=256x256 at 0x7F413DAEE610>"
            ],
            "image/png": "[encoded data removed]"
          },
          "metadata": {},
          "execution_count": 31
        }
      ]
    },
    {
      "cell_type": "code",
      "source": [
        "im.resize((500, 100))\n",
        "#changes the size, format: ((width, height))"
      ],
      "metadata": {
        "colab": {
          "base_uri": "https://localhost:8080/",
          "height": 117
        },
        "id": "KVZH709l51BK",
        "outputId": "cf2a3e34-1763-4065-f09e-8717f06b7576"
      },
      "execution_count": null,
      "outputs": [
        {
          "output_type": "execute_result",
          "data": {
            "text/plain": [
              "<PIL.Image.Image image mode=RGB size=500x100 at 0x7F413DAEEC50>"
            ],
            "image/png": "[encoded data removed]"
          },
          "metadata": {},
          "execution_count": 35
        }
      ]
    },
    {
      "cell_type": "code",
      "source": [
        "im.rotate((45))\n",
        "#rotates by degrees"
      ],
      "metadata": {
        "colab": {
          "base_uri": "https://localhost:8080/",
          "height": 273
        },
        "id": "yZ7-vSFf6MzC",
        "outputId": "ff7f26bd-6bc8-4d69-e402-42a7887783be"
      },
      "execution_count": null,
      "outputs": [
        {
          "output_type": "execute_result",
          "data": {
            "text/plain": [
              "<PIL.Image.Image image mode=RGB size=256x256 at 0x7F413DAA5D50>"
            ],
            "image/png": "[encoded data removed]"
          },
          "metadata": {},
          "execution_count": 36
        }
      ]
    }
  ]
}